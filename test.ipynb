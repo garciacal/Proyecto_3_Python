{
 "cells": [
  {
   "cell_type": "code",
   "execution_count": null,
   "id": "f21c2a64",
   "metadata": {
    "vscode": {
     "languageId": "plaintext"
    }
   },
   "outputs": [],
   "source": [
    "test1 = \"hola\"\n",
    "\t\n",
    "print(test1)"
   ]
  }
 ],
 "metadata": {
  "language_info": {
   "name": "python"
  }
 },
 "nbformat": 4,
 "nbformat_minor": 5
}
