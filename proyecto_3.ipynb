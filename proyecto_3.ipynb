{
 "cells": [
  {
   "cell_type": "markdown",
   "id": "37540827",
   "metadata": {},
   "source": [
    "1 Escribe una función que reciba una cadena de texto como parámetro y devuelva un diccionario con las frecuencias de cada letra en la cadena. Los espacios no deben ser considerados."
   ]
  },
  {
   "cell_type": "code",
   "execution_count": null,
   "id": "754a20b4",
   "metadata": {},
   "outputs": [],
   "source": [
    "cadena = \"aaaiill oopp\"\n",
    "\n",
    "def frecuencias_letras(cadena: str) -> dict:\n",
    "    frecuencias = {}\n",
    "    for letra in cadena.replace(\" \", \"\"):\n",
    "        letra = letra.lower()\n",
    "        if letra in frecuencias:\n",
    "            frecuencias[letra] += 1\n",
    "        else:\n",
    "            frecuencias[letra] = 1\n",
    "    return frecuencias\n",
    "\n",
    "print(frecuencias_letras(cadena))"
   ]
  },
  {
   "cell_type": "markdown",
   "id": "bcb4b60b",
   "metadata": {},
   "source": [
    "2 Dada una lista de números, obtén una nueva lista con el doble de cada valor. Usa la función map()."
   ]
  },
  {
   "cell_type": "code",
   "execution_count": null,
   "id": "514abc06",
   "metadata": {},
   "outputs": [],
   "source": [
    "def doble(x):\n",
    "    return x * 2\n",
    "\n",
    "numeros = [2,3,4,5,6,7,8]\n",
    "\n",
    "pordos = list(map(doble, numeros))\n",
    "\n",
    "print(pordos)"
   ]
  },
  {
   "cell_type": "markdown",
   "id": "ad6d67de",
   "metadata": {},
   "source": [
    "3 Escribe una función que tome una lista de palabras y una palabra objetivo como parámetros. La función debe devolver una lista con todas las palabras de la lista original que contengan la palabra objetivo."
   ]
  },
  {
   "cell_type": "code",
   "execution_count": null,
   "id": "5327d781",
   "metadata": {},
   "outputs": [],
   "source": [
    "def buscar_palabras(lista_palabras, palabra_objetivo):\n",
    "    return [palabra for palabra in lista_palabras if palabra_objetivo in palabra]\n",
    "\n",
    "lista_palabras = [\"hola\", \"adios\", \"uno\", \"dos\", \"adioss\", \"tres\", \"aadioss\"]\n",
    "palabra_objetivo = \"adios\"\n",
    "\n",
    "filtro = buscar_palabras(lista_palabras, palabra_objetivo)\n",
    "print(filtro)"
   ]
  },
  {
   "cell_type": "markdown",
   "id": "a4eedc36",
   "metadata": {},
   "source": [
    "4 Genera una función que calcule la diferencia entre los valores de dos listas. Usa la función map()."
   ]
  },
  {
   "cell_type": "code",
   "execution_count": null,
   "id": "b570b074",
   "metadata": {},
   "outputs": [],
   "source": [
    "def diferencia_listas(lista1, lista2):\n",
    "    return list(map(lambda x, y: x - y, lista1, lista2))\n",
    "\n",
    "lista1 = [11, 80, 56, 78, 35]\n",
    "lista2 = [54, 81, 65, 34, 21]\n",
    "\n",
    "filtro = diferencia_listas(lista1, lista2)\n",
    "print(filtro)"
   ]
  },
  {
   "cell_type": "markdown",
   "id": "ea14df99",
   "metadata": {},
   "source": [
    "5 Escribe una función que tome una lista de números como parámetro y un valor opcional nota_aprobado (por defecto 5). La función debe calcular la media de los números en la lista y determinar si la media es mayor o igual que nota_aprobado. Si es así, el estado será \"aprobado\"; de lo contrario, \"suspenso\". La función debe devolver una tupla que contenga la media y el estado."
   ]
  },
  {
   "cell_type": "markdown",
   "id": "abe4a026",
   "metadata": {},
   "source": []
  },
  {
   "cell_type": "code",
   "execution_count": null,
   "id": "933396c4",
   "metadata": {},
   "outputs": [],
   "source": [
    "def aprobado(lista_notas, nota_aprobado=5):\n",
    "    media = sum(lista_notas) / len(lista_notas)\n",
    "\n",
    "    if media >= nota_aprobado:\n",
    "        estado = \"el alumno está aprobado\"\n",
    "    else:\n",
    "        estado = \"el alumno está suspenso\"\n",
    "    \n",
    "    return (media, estado)\n",
    "\n",
    "resultado = aprobado([3, 5, 6, 9, 6])\n",
    "print(resultado)"
   ]
  },
  {
   "cell_type": "markdown",
   "id": "27b5d645",
   "metadata": {},
   "source": [
    "6 Escribe una función que calcule el factorial de un número de manera recursiva."
   ]
  },
  {
   "cell_type": "code",
   "execution_count": null,
   "id": "f8aa827e",
   "metadata": {},
   "outputs": [],
   "source": [
    "def factorial_recursivo(n):\n",
    "\n",
    "    if n < 0:\n",
    "        return \"no puede ser numero negativo\"\n",
    "    elif n == 0 or n == 1:\n",
    "        return 1\n",
    "    else:\n",
    "        return n * factorial_recursivo(n - 1)\n",
    "\n",
    "resultado = factorial_recursivo(6)\n",
    "print(resultado) "
   ]
  },
  {
   "cell_type": "markdown",
   "id": "a763f821",
   "metadata": {},
   "source": [
    "7 Genera una función que convierta una lista de tuplas a una lista de strings. Usa la función map()."
   ]
  },
  {
   "cell_type": "code",
   "execution_count": null,
   "id": "bc245090",
   "metadata": {},
   "outputs": [],
   "source": [
    "def conversor_strings(lista_tuplas):\n",
    "    return list(map(lambda t: \" \".join(map(str, t)), lista_tuplas))\n",
    "\n",
    "datos = [(\"test\", \"test2\"), (1 , 7),]\n",
    "resultado = conversor_strings(datos)\n",
    "print(resultado)"
   ]
  },
  {
   "cell_type": "markdown",
   "id": "80cb771f",
   "metadata": {},
   "source": [
    "8 Escribe un programa que pida al usuario dos números e intente dividirlos. Si el usuario ingresa un valor no numérico o intenta dividir por cero, maneja esas excepciones de manera adecuada y muestra un mensaje indicando si la división fue exitosa o no."
   ]
  },
  {
   "cell_type": "code",
   "execution_count": null,
   "id": "0938d398",
   "metadata": {},
   "outputs": [],
   "source": [
    "def division_segura(n1, n2):\n",
    "    try:\n",
    "        resultado = n1 / n2\n",
    "    except ValueError:\n",
    "        print(\"No has introducido dos numeros\")\n",
    "    except ZeroDivisionError:\n",
    "        print(\"no puedes dividir entre 0\")\n",
    "    else:\n",
    "        return resultado\n",
    "\n",
    "n1 = 50\n",
    "n2 = 4\n",
    "print(division_segura(n1, n2))"
   ]
  },
  {
   "cell_type": "markdown",
   "id": "755e798a",
   "metadata": {},
   "source": [
    "9 Escribe una función que tome una lista de nombres de mascotas como parámetro y devuelva una nueva lista excluyendo ciertas mascotas prohibidas en España. La lista de mascotas a excluir es [\"Mapache\", \"Tigre\", \"Serpiente Pitón\", \"Cocodrilo\", \"Oso\"]. Usa la función filter()."
   ]
  },
  {
   "cell_type": "code",
   "execution_count": null,
   "id": "3e590c5b",
   "metadata": {},
   "outputs": [],
   "source": [
    "def filtro_mascotas(mascotas):\n",
    "    prohibidas = [\"Mapache\", \"Tigre\", \"Serpiente Pitón\", \"Cocodrilo\", \"Oso\"]\n",
    "    return list(filter(lambda mascota: mascota not in prohibidas, mascotas))\n",
    "\n",
    "lista_mascotas = [\"gato\",\"conejo\",\"Tigre\",\"Loro\",\"Oso\"]\n",
    "resultado = filtro_mascotas(lista_mascotas)\n",
    "print(resultado) "
   ]
  },
  {
   "cell_type": "markdown",
   "id": "5d0ea1bf",
   "metadata": {},
   "source": [
    "10 Escribe una función que reciba una lista de números y calcule su promedio. Si la lista está vacía, lanza una excepción personalizada y maneja el error adecuadamente."
   ]
  },
  {
   "cell_type": "code",
   "execution_count": null,
   "id": "138952b0",
   "metadata": {},
   "outputs": [],
   "source": [
    "def promedio(lista_numeros):\n",
    "    if len(lista_numeros) == 0:\n",
    "        return (\"La lista no contiene numeros!!!\")\n",
    "    else:\n",
    "        return sum(lista_numeros) / len(lista_numeros)\n",
    "\n",
    "numeros = [4,9,2,4]\n",
    "print(promedio(numeros))"
   ]
  },
  {
   "cell_type": "markdown",
   "id": "5f9467e4",
   "metadata": {},
   "source": [
    "11 Escribe un programa que pida al usuario que introduzca su edad. Si el usuario ingresa un valor no numérico o un valor fuera del rango esperado (por ejemplo, menor que 0 o mayor que 120), maneja las excepciones adecuadamente."
   ]
  },
  {
   "cell_type": "code",
   "execution_count": null,
   "id": "e3b2d82c",
   "metadata": {},
   "outputs": [],
   "source": [
    "def edad_usuario():\n",
    "    try:\n",
    "        edad = int(input(\"Escribe tu edad\"))\n",
    "        if edad < 0:\n",
    "            print(\"la edad no puede ser menor de 0\")\n",
    "        elif edad > 120:\n",
    "            print(\"la edad no puede ser mayor a 120\")\n",
    "        else: \n",
    "            print(\"Edad registrada correctamente!\")\n",
    "    except ValueError:\n",
    "        print(\"Numeros no validos!\")\n",
    "\n",
    "edad_usuario()"
   ]
  },
  {
   "cell_type": "markdown",
   "id": "29ee5bf9",
   "metadata": {},
   "source": [
    "12 Genera una función que, al recibir una frase, devuelva una lista con la longitud de cada palabra. Usa la función map()."
   ]
  },
  {
   "cell_type": "code",
   "execution_count": null,
   "id": "46d039a1",
   "metadata": {},
   "outputs": [],
   "source": [
    "def longitud_palabras(frase):\n",
    "    palabras=frase.split()\n",
    "    return list(map(len, palabras))\n",
    "\n",
    "frase = \"test para longitud de palabras\"\n",
    "resultado = longitud_palabras(frase)\n",
    "print(resultado)"
   ]
  },
  {
   "cell_type": "markdown",
   "id": "7743db14",
   "metadata": {},
   "source": [
    "13 Genera una función que, para un conjunto de caracteres, devuelva una lista de tuplas con cada letra en mayúsculas y minúsculas. Las letras no pueden estar repetidas. Usa la función map()."
   ]
  },
  {
   "cell_type": "code",
   "execution_count": null,
   "id": "d06b3e70",
   "metadata": {},
   "outputs": [],
   "source": [
    "def crear_tuplas(conjunto):\n",
    "    sin_duplicados = sorted(set(conjunto))\n",
    "    return list(map(lambda c: (c.upper(), c.lower()), sin_duplicados))\n",
    "\n",
    "\n",
    "resultado = crear_tuplas(['g', 'c', 'C', 'm', 'N', 'p' , 'W', 'K', 'q'])\n",
    "print(resultado)"
   ]
  },
  {
   "cell_type": "markdown",
   "id": "3dfe51cf",
   "metadata": {},
   "source": [
    "14 Crea una función que retorne las palabras de una lista que comiencen con una letra en específico. Usa la función filter()."
   ]
  },
  {
   "cell_type": "code",
   "execution_count": null,
   "id": "26e07e4c",
   "metadata": {},
   "outputs": [],
   "source": [
    "def filtrar_letra(palabras, letra):\n",
    "    return list(filter(lambda palabra: palabra.lower().startswith(letra.lower()), palabras))\n",
    "\n",
    "palabras = [\"Test1\", \"Test2\", \"Error1\", \"Test3\", \"Error2\", \"Error3\", \"Test4\"]\n",
    "resultado = filtrar_letra(palabras, \"t\")\n",
    "print(resultado)"
   ]
  },
  {
   "cell_type": "markdown",
   "id": "2c1fa597",
   "metadata": {},
   "source": [
    "15 Crea una función lambda que sume 3 a cada número de una lista dada."
   ]
  },
  {
   "cell_type": "code",
   "execution_count": null,
   "id": "12dfefa2",
   "metadata": {},
   "outputs": [],
   "source": [
    "Mas_tres = lambda lista_numeros: list(map(lambda x: x + 3, lista_numeros))\n",
    "\n",
    "lista_numeros = [70, 33, 1, 29, 32, 78, 91]\n",
    "\n",
    "resultado = Mas_tres(lista_numeros)\n",
    "print(resultado)"
   ]
  },
  {
   "cell_type": "markdown",
   "id": "1fad7e43",
   "metadata": {},
   "source": [
    "16 Escribe una función que tome una cadena de texto y un número entero n como parámetros y devuelva una lista de todas las palabras que sean más largas que n. Usa la función filter()."
   ]
  },
  {
   "cell_type": "code",
   "execution_count": null,
   "id": "115ac0e9",
   "metadata": {},
   "outputs": [],
   "source": [
    "def palabras_mas_largas_que_n(cadena_texto, n):\n",
    "\n",
    "    palabras = cadena_texto.split()\n",
    "    return list(filter(lambda palabra: len(palabra) > n, palabras))\n",
    "\n",
    "texto = \"Este es un texto de test para ver si funciona, palabralarganumero1, palabralarganumero2 XD\"\n",
    "resultado = palabras_mas_largas_que_n(texto, 3)\n",
    "print(resultado)"
   ]
  },
  {
   "cell_type": "markdown",
   "id": "b7d11530",
   "metadata": {},
   "source": [
    "17 Crea una función que tome una lista de dígitos y devuelva el número correspondiente. Por ejemplo, [5,7,2] corresponde al número 572. Usa la función reduce()."
   ]
  },
  {
   "cell_type": "code",
   "execution_count": null,
   "id": "2f835a2a",
   "metadata": {},
   "outputs": [],
   "source": [
    "from functools import reduce\n",
    "\n",
    "def transformar_numero(digitos):\n",
    "    return reduce(lambda x, y: x * 10 + y, digitos)\n",
    "\n",
    "\n",
    "numeros = [2, 3, 6, 8, 1]\n",
    "resultado = transformar_numero(numeros)\n",
    "print(resultado)"
   ]
  },
  {
   "cell_type": "markdown",
   "id": "db5fcbff",
   "metadata": {},
   "source": [
    "18 Escribe un programa en Python que cree una lista de diccionarios con información de estudiantes (nombre, edad, calificación) y use filter para extraer a los estudiantes con una calificación mayor o igual a 90."
   ]
  },
  {
   "cell_type": "code",
   "execution_count": null,
   "id": "da770bfb",
   "metadata": {},
   "outputs": [],
   "source": [
    "lista_estudiantes = [\n",
    "    {\"Nombre\": \"Juan\", \"edad\": 22, \"Calificación\": 80},\n",
    "    {\"Nombre\": \"Ana\", \"edad\": 22, \"Calificación\": 70},\n",
    "    {\"Nombre\": \"Pedro\", \"edad\": 22, \"Calificación\": 100},\n",
    "    {\"Nombre\": \"Francisco\", \"edad\": 22, \"Calificación\": 90},\n",
    "    {\"Nombre\": \"Manuel\", \"edad\": 22, \"Calificación\": 70},\n",
    "]\n",
    "\n",
    "Mayor_o_igual_90 = list(filter(lambda e: e[\"Calificación\"] >= 90, lista_estudiantes))\n",
    "\n",
    "print(Mayor_o_igual_90)"
   ]
  },
  {
   "cell_type": "markdown",
   "id": "cee6e128",
   "metadata": {},
   "source": [
    "19 Crea una función lambda que filtre los números impares de una lista dada.\n"
   ]
  },
  {
   "cell_type": "code",
   "execution_count": null,
   "id": "367ffbc4",
   "metadata": {},
   "outputs": [],
   "source": [
    "impraes = lambda lista: list(filter(lambda x: x % 2 != 0, lista))\n",
    "\n",
    "numeros = [2,3,4,5,6,7,8,9,11,12,13,14,15,16]\n",
    "resultado = impraes(numeros)\n",
    "print(resultado)"
   ]
  },
  {
   "cell_type": "markdown",
   "id": "5f8f07e4",
   "metadata": {},
   "source": [
    "20 Para una lista con elementos de tipo integer y string, obtén una nueva lista solo con los valores int. Usa la función filter()."
   ]
  },
  {
   "cell_type": "code",
   "execution_count": null,
   "id": "9eef6975",
   "metadata": {},
   "outputs": [],
   "source": [
    "lista = [1, \"hola\", 2 , \"adios\", 3 , \"jaja\"]\n",
    "\n",
    "lista_int = list(filter(lambda x: isinstance(x, int), lista))\n",
    "print(lista_int )\n"
   ]
  },
  {
   "cell_type": "markdown",
   "id": "ebe823c3",
   "metadata": {},
   "source": [
    "21 Crea una función que calcule el cubo de un número dado mediante una función lambda."
   ]
  },
  {
   "cell_type": "code",
   "execution_count": 1,
   "id": "f5f409ce",
   "metadata": {},
   "outputs": [
    {
     "name": "stdout",
     "output_type": "stream",
     "text": [
      "343\n"
     ]
    }
   ],
   "source": [
    "calcular_cubo = lambda x: x ** 3\n",
    "\n",
    "numero = 7\n",
    "\n",
    "resultado = calcular_cubo(numero)\n",
    "print(resultado)"
   ]
  },
  {
   "cell_type": "markdown",
   "id": "1ae5c573",
   "metadata": {},
   "source": [
    "22 Dada una lista numérica, obtén el producto total de los valores. Usa la función reduce()."
   ]
  },
  {
   "cell_type": "code",
   "execution_count": 5,
   "id": "1ac0d242",
   "metadata": {},
   "outputs": [
    {
     "name": "stdout",
     "output_type": "stream",
     "text": [
      "105336\n"
     ]
    }
   ],
   "source": [
    "from functools import reduce\n",
    "\n",
    "numeros = [4, 11, 2, 9, 7, 19]\n",
    "\n",
    "producto_total = reduce(lambda x, y: x * y, numeros)\n",
    "\n",
    "print(producto_total)"
   ]
  },
  {
   "cell_type": "markdown",
   "id": "e6a90f65",
   "metadata": {},
   "source": [
    "23 Concatena una lista de palabras. Usa la función reduce()."
   ]
  },
  {
   "cell_type": "code",
   "execution_count": 6,
   "id": "e6d5fdf5",
   "metadata": {},
   "outputs": [
    {
     "name": "stdout",
     "output_type": "stream",
     "text": [
      "test para crear una frase\n"
     ]
    }
   ],
   "source": [
    "from functools import reduce\n",
    "\n",
    "palabras = [\"test\", \"para\", \"crear\", \"una\", \"frase\"]\n",
    "\n",
    "concatenar = reduce(lambda x, y: x + \" \" + y, palabras)\n",
    "\n",
    "print(concatenar)"
   ]
  },
  {
   "cell_type": "markdown",
   "id": "19b7cd66",
   "metadata": {},
   "source": [
    "24 Calcula la diferencia total en los valores de una lista. Usa la función reduce()."
   ]
  },
  {
   "cell_type": "code",
   "execution_count": 8,
   "id": "bad83239",
   "metadata": {},
   "outputs": [
    {
     "name": "stdout",
     "output_type": "stream",
     "text": [
      "-44\n"
     ]
    }
   ],
   "source": [
    "from functools import reduce\n",
    "\n",
    "numeros = [4, 11, 2, 9, 7, 19]\n",
    "\n",
    "diferencia_total = reduce(lambda x, y: x - y, numeros)\n",
    "\n",
    "print(diferencia_total)"
   ]
  },
  {
   "cell_type": "markdown",
   "id": "a4e24845",
   "metadata": {},
   "source": [
    "25 Crea una función que cuente el número de caracteres en una cadena de texto dada."
   ]
  },
  {
   "cell_type": "code",
   "execution_count": 9,
   "id": "5e7f4f81",
   "metadata": {},
   "outputs": [
    {
     "name": "stdout",
     "output_type": "stream",
     "text": [
      "37\n"
     ]
    }
   ],
   "source": [
    "def contador_de_caracters(cadena):\n",
    "    return len(cadena)\n",
    "\n",
    "texto = \"texto de test para contar los valores\"\n",
    "print(contador_de_caracters(texto))"
   ]
  },
  {
   "cell_type": "markdown",
   "id": "4dd0c38b",
   "metadata": {},
   "source": [
    "26 Crea una función lambda que calcule el resto de la división entre dos números dados."
   ]
  },
  {
   "cell_type": "code",
   "execution_count": 12,
   "id": "eca8ad53",
   "metadata": {},
   "outputs": [
    {
     "name": "stdout",
     "output_type": "stream",
     "text": [
      "2\n"
     ]
    }
   ],
   "source": [
    "calcular_resto = lambda x, y: x % y\n",
    "\n",
    "print(calcular_resto(20, 3)) \n"
   ]
  },
  {
   "cell_type": "markdown",
   "id": "79dee3f0",
   "metadata": {},
   "source": [
    "27 Crea una función que calcule el promedio de una lista de números."
   ]
  },
  {
   "cell_type": "code",
   "execution_count": 13,
   "id": "4d3242af",
   "metadata": {},
   "outputs": [
    {
     "name": "stdout",
     "output_type": "stream",
     "text": [
      "8.666666666666666\n"
     ]
    }
   ],
   "source": [
    "def calcular_promedio(lista):\n",
    "    return sum(lista) / len(lista)\n",
    "\n",
    "\n",
    "numeros = [4, 11, 2, 9, 7, 19]\n",
    "print(calcular_promedio(numeros))"
   ]
  },
  {
   "cell_type": "markdown",
   "id": "b7351ae4",
   "metadata": {},
   "source": [
    "28 Crea una función que busque y devuelva el primer elemento duplicado en una lista dada."
   ]
  },
  {
   "cell_type": "code",
   "execution_count": 15,
   "id": "b5e6bb80",
   "metadata": {},
   "outputs": [
    {
     "name": "stdout",
     "output_type": "stream",
     "text": [
      "11\n"
     ]
    }
   ],
   "source": [
    "def primer_elemento_duplicado(lista):\n",
    "    vistos = set()\n",
    "    for elemento in lista:\n",
    "        if elemento in vistos:\n",
    "            return elemento\n",
    "        vistos.add(elemento)\n",
    "    return None\n",
    "\n",
    "\n",
    "numeros = [4, 11, 2, 9, 7, 19, 11]\n",
    "print(primer_elemento_duplicado(numeros))"
   ]
  },
  {
   "cell_type": "markdown",
   "id": "5e49fe31",
   "metadata": {},
   "source": [
    "29 Crea una función que convierta una variable en una cadena de texto y enmascare todos los caracteres con el carácter '#' excepto los últimos cuatro."
   ]
  },
  {
   "cell_type": "code",
   "execution_count": 16,
   "id": "eabfb85b",
   "metadata": {},
   "outputs": [
    {
     "name": "stdout",
     "output_type": "stream",
     "text": [
      "################################test\n"
     ]
    }
   ],
   "source": [
    "def enmascarar_cadena(valor):\n",
    "    cadena = str(valor)\n",
    "    if len(cadena) <= 4:\n",
    "        return cadena\n",
    "    return \"#\" * (len(cadena) - 4) + cadena[-4:]\n",
    "\n",
    "\n",
    "print(enmascarar_cadena(\"cadena de texto para enmascarar test\")) "
   ]
  },
  {
   "cell_type": "markdown",
   "id": "3ea4d91e",
   "metadata": {},
   "source": [
    "30 Crea una función que determine si dos palabras son anagramas, es decir, si están formadas por las mismas letras pero en diferente orden."
   ]
  },
  {
   "cell_type": "code",
   "execution_count": 17,
   "id": "3aef1005",
   "metadata": {},
   "outputs": [
    {
     "name": "stdout",
     "output_type": "stream",
     "text": [
      "True\n",
      "False\n"
     ]
    }
   ],
   "source": [
    "def anagramas(palabra_1, palabra_2):\n",
    "\n",
    "    p1 = palabra_1.replace(\" \", \"\").lower()\n",
    "    p2 = palabra_2.replace(\" \", \"\").lower()\n",
    "\n",
    "    return sorted(p1) == sorted(p2)\n",
    "\n",
    "\n",
    "print(anagramas(\"caso\", \"saco\"))\n",
    "print(anagramas(\"test\", \"error\"))\n"
   ]
  },
  {
   "cell_type": "markdown",
   "id": "b86dcb46",
   "metadata": {},
   "source": [
    "31 Crea una función que solicite al usuario ingresar una lista de nombres y luego un nombre para buscar en esa lista. Si el nombre está en la lista, imprime un mensaje indicando que fue encontrado; de lo contrario, lanza una excepción."
   ]
  },
  {
   "cell_type": "code",
   "execution_count": null,
   "id": "bbe2a51f",
   "metadata": {},
   "outputs": [],
   "source": [
    "def buscador_nombre():\n",
    "   \n",
    "    entrada = input(\"Introduce el listado de nombres\")\n",
    "    lista_nombres = [nombre.strip() for nombre in entrada.split()]\n",
    "\n",
    "    nombre_buscar = input(\"Que nombre quieres buscar?\").strip()\n",
    "\n",
    "    if nombre_buscar in lista_nombres:\n",
    "        print(\"Nombre en la lista!\")\n",
    "    else:\n",
    "        print(\"Nombre no encontrado en la lista\")\n",
    "\n",
    "buscador_nombre()"
   ]
  },
  {
   "cell_type": "markdown",
   "id": "7292652a",
   "metadata": {},
   "source": [
    "32 Crea una función que tome un nombre completo y una lista de empleados, busque el nombre en la lista y devuelva el puesto del empleado si se encuentra; de lo contrario, devuelve un mensaje indicando que la persona no trabaja aquí."
   ]
  },
  {
   "cell_type": "code",
   "execution_count": null,
   "id": "2f085cea",
   "metadata": {},
   "outputs": [],
   "source": [
    "lista_trabajadores = [\n",
    "    {\"Nombre\": \"Juan\", \"edad\": 22, \"Puesto\": \"Recursos humanos\"},\n",
    "    {\"Nombre\": \"Ana\", \"edad\": 22, \"Puesto\": \"IT\"},\n",
    "    {\"Nombre\": \"Pedro\", \"edad\": 22, \"Puesto\": \"Administrativo\"},\n",
    "    {\"Nombre\": \"Francisco\", \"edad\": 22, \"Puesto\": \"Gerente\"},\n",
    "    {\"Nombre\": \"Manuel\", \"edad\": 22, \"Puesto\": \"Jefe de departamento\"},\n",
    "]\n",
    "\n",
    "def puesto_empleado(nombre, lista_trabajadores):\n",
    "    for trabajador in lista_trabajadores:\n",
    "        if trabajador[\"Nombre\"].lower() == nombre.lower():\n",
    "            return f\"{nombre} tiene el puesto de {trabajador['Puesto']}.\"\n",
    "    return f\"{nombre} no trabaja aquí!!!\"\n",
    "\n",
    "\n",
    "print(puesto_empleado(\"Pedro\", lista_trabajadores)) \n",
    "print(puesto_empleado(\"Luis\", lista_trabajadores)) "
   ]
  },
  {
   "cell_type": "markdown",
   "id": "4e388f87",
   "metadata": {},
   "source": [
    "33 Crea una función lambda que sume elementos correspondientes de dos listas dadas."
   ]
  },
  {
   "cell_type": "code",
   "execution_count": null,
   "id": "7794de02",
   "metadata": {},
   "outputs": [],
   "source": [
    "\n",
    "lista1 = [1, 2, 3, 4, 5]\n",
    "lista2 = [5, 6, 7, 8, 9]\n",
    "\n",
    "\n",
    "suma_listas = list(map(lambda x, y: x + y, lista1, lista2))\n",
    "\n",
    "print(suma_listas)"
   ]
  },
  {
   "cell_type": "markdown",
   "id": "67998239",
   "metadata": {},
   "source": [
    "34 Crea la clase Arbol\n",
    "Define un árbol genérico con un tronco y ramas como atributos.\n",
    "Métodos disponibles: crecer_tronco, nueva_rama, crecer_ramas, quitar_rama, info_arbol.\n",
    "Código a seguir:\n",
    "Inicializar un árbol con un tronco de longitud 1 y una lista vacía de ramas.\n",
    "Implementar el método crecer_tronco para aumentar la longitud del tronco en una unidad.\n",
    "Implementar el método nueva_rama para agregar una nueva rama de longitud 1 a la lista de ramas.\n",
    "Implementar el método crecer_ramas para aumentar en una unidad la longitud de todas las ramas existentes.\n",
    "Implementar el método quitar_rama para eliminar una rama en una posición específica.\n",
    "Implementar el método info_arbol para devolver información sobre la longitud del tronco, el número de ramas y sus longitudes.\n",
    "Caso de uso:\n",
    "        a. Crear un árbol.\n",
    "        b. Hacer crecer el tronco una unidad.\n",
    "        c. Añadir una nueva rama.\n",
    "        d. Hacer crecer todas las ramas una unidad.\n",
    "        e. Añadir dos nuevas ramas.\n",
    "        f. Retirar la rama situada en la posición 2.\n",
    "        g. Obtener información sobre el árbol."
   ]
  },
  {
   "cell_type": "code",
   "execution_count": null,
   "id": "2ce86bed",
   "metadata": {},
   "outputs": [
    {
     "name": "stdout",
     "output_type": "stream",
     "text": [
      "El tronco es de longitud 2.\n",
      "El árbol tiene 2 rama(s).\n",
      "La longitud de las ramas es: [2, 1]\n",
      "\n"
     ]
    }
   ],
   "source": [
    "class Arbol:\n",
    "    def __init__(self):\n",
    "        self.tronco = 1\n",
    "        self.ramas = []\n",
    "        #Inicializar un árbol con un tronco de longitud 1 y una lista vacía de ramas.#\n",
    "\n",
    "    def crecer_tronco(self):\n",
    "        self.tronco += 1\n",
    "        #Implementar el método crecer_tronco para aumentar la longitud del tronco en una unidad.#\n",
    "\n",
    "    def nueva_rama(self):\n",
    "        self.ramas.append(1)\n",
    "        #Implementar el método nueva_rama para agregar una nueva rama de longitud 1 a la lista de ramas.#\n",
    "\n",
    "    def crecer_ramas(self):\n",
    "        self.ramas = [rama + 1 for rama in self.ramas]\n",
    "        #Implementar el método crecer_ramas para aumentar en una unidad la longitud de todas las ramas existentes.#\n",
    "\n",
    "    def quitar_rama(self, posicion):\n",
    "        if 1 <= posicion <= len(self.ramas):\n",
    "            self.ramas.pop(posicion - 1)\n",
    "        else:\n",
    "            print(\"no se pueden quitar mas ramas\")\n",
    "         #Implementar el método quitar_rama para eliminar una rama en una posición específica y que nos diga que no quedan ramas que quitar en caso de que asi sea#\n",
    "\n",
    "\n",
    "    def info_arbol(self):\n",
    "        info = f\"El tronco es de longitud {self.tronco}.\\n\"\n",
    "        if self.ramas:\n",
    "            info += f\"El árbol tiene {len(self.ramas)} rama(s).\\n\"\n",
    "            info += f\"La longitud de las ramas es: {self.ramas}\\n\"\n",
    "        else:\n",
    "            info += \"El árbol no tiene ramas!!!\\n\"\n",
    "        \n",
    "        return info\n",
    "    #Implementar el método info_arbol para devolver información sobre la longitud del tronco, el número de ramas y sus longitudes.\n",
    "\n",
    "\n",
    "#  a. Crear un árbol.#\n",
    "arbol = Arbol() \n",
    "\n",
    "# b. Hacer crecer el tronco una unidad#            \n",
    "arbol.crecer_tronco()     \n",
    "\n",
    "# c. Añadir una nueva rama#  \n",
    "arbol.nueva_rama()     \n",
    "\n",
    "# d. Hacer crecer todas las ramas una unidad#      \n",
    "arbol.crecer_ramas()\n",
    "\n",
    "# e. Añadir dos nuevas ramas#         \n",
    "arbol.nueva_rama()           \n",
    "arbol.nueva_rama()\n",
    "\n",
    "# f. Retirar la rama situada en la posición 2#\n",
    "arbol.quitar_rama(2)    \n",
    "\n",
    "# g. Obtener información sobre el árbol#\n",
    "print(arbol.info_arbol())    "
   ]
  },
  {
   "cell_type": "markdown",
   "id": "2563bda8",
   "metadata": {},
   "source": [
    "35 Crea la clase UsuarioBanco\n",
    "Representa a un usuario de un banco con su nombre, saldo y si tiene o no cuenta corriente.\n",
    "Métodos: retirar_dinero, transferir_dinero, agregar_dinero.\n",
    "Código a seguir:\n",
    "Inicializar un usuario con nombre, saldo y un indicador (True o False) de cuenta corriente.\n",
    "Implementar retirar_dinero para sustraer dinero del saldo, lanzando un error si no es posible.\n",
    "Implementar transferir_dinero para transferir dinero desde otro usuario, lanzando un error en caso de fallo.\n",
    "Implementar agregar_dinero para aumentar el saldo del usuario.\n",
    "Caso de uso:\n",
    "        a. Crear dos usuarios: \"Alicia\" con saldo inicial de 100 y \"Bob\" con saldo inicial de 50, ambos con cuenta corriente.\n",
    "        b. Agregar 20 unidades al saldo de Bob.\n",
    "        c. Transferir 80 unidades de Bob a Alicia.\n",
    "        d. Retirar 50 unidades del saldo de Alicia."
   ]
  },
  {
   "cell_type": "code",
   "execution_count": null,
   "id": "1085d40e",
   "metadata": {},
   "outputs": [
    {
     "name": "stdout",
     "output_type": "stream",
     "text": [
      "20 añadido con exito\n"
     ]
    },
    {
     "ename": "ValueError",
     "evalue": "No es posible transferir 80, saldo insuficiente",
     "output_type": "error",
     "traceback": [
      "\u001b[31m---------------------------------------------------------------------------\u001b[39m",
      "\u001b[31mValueError\u001b[39m                                Traceback (most recent call last)",
      "\u001b[36mCell\u001b[39m\u001b[36m \u001b[39m\u001b[32mIn[3]\u001b[39m\u001b[32m, line 41\u001b[39m\n\u001b[32m     38\u001b[39m bob.agregar_dinero(\u001b[32m20\u001b[39m)\n\u001b[32m     40\u001b[39m \u001b[38;5;66;03m# c. Transferir 80 unidades de Bob a Alicia.#\u001b[39;00m\n\u001b[32m---> \u001b[39m\u001b[32m41\u001b[39m \u001b[43mbob\u001b[49m\u001b[43m.\u001b[49m\u001b[43mtransferir_dinero\u001b[49m\u001b[43m(\u001b[49m\u001b[43malicia\u001b[49m\u001b[43m,\u001b[49m\u001b[43m \u001b[49m\u001b[32;43m80\u001b[39;49m\u001b[43m)\u001b[49m\n\u001b[32m     43\u001b[39m \u001b[38;5;66;03m# d. Retirar 50 unidades del saldo de Alicia.#\u001b[39;00m\n\u001b[32m     44\u001b[39m alicia.retirar_dinero(\u001b[32m50\u001b[39m)\n",
      "\u001b[36mCell\u001b[39m\u001b[36m \u001b[39m\u001b[32mIn[3]\u001b[39m\u001b[32m, line 20\u001b[39m, in \u001b[36mUsuarioBanco.transferir_dinero\u001b[39m\u001b[34m(self, otro_usuario, cantidad)\u001b[39m\n\u001b[32m     18\u001b[39m     \u001b[38;5;28;01mraise\u001b[39;00m \u001b[38;5;167;01mValueError\u001b[39;00m(\u001b[33m\"\u001b[39m\u001b[33mNo es posible realizar el tramite, usuario no encontrado\u001b[39m\u001b[33m\"\u001b[39m)\n\u001b[32m     19\u001b[39m \u001b[38;5;28;01mif\u001b[39;00m cantidad > \u001b[38;5;28mself\u001b[39m.saldo:\n\u001b[32m---> \u001b[39m\u001b[32m20\u001b[39m     \u001b[38;5;28;01mraise\u001b[39;00m \u001b[38;5;167;01mValueError\u001b[39;00m(\u001b[33mf\u001b[39m\u001b[33m\"\u001b[39m\u001b[33mNo es posible transferir \u001b[39m\u001b[38;5;132;01m{\u001b[39;00mcantidad\u001b[38;5;132;01m}\u001b[39;00m\u001b[33m, saldo insuficiente\u001b[39m\u001b[33m\"\u001b[39m)\n\u001b[32m     21\u001b[39m \u001b[38;5;28mself\u001b[39m.saldo -= cantidad\n\u001b[32m     22\u001b[39m otro_usuario.saldo += cantidad\n",
      "\u001b[31mValueError\u001b[39m: No es posible transferir 80, saldo insuficiente"
     ]
    }
   ],
   "source": [
    "class UsuarioBanco:\n",
    "\n",
    "    def __init__(self, nombre, saldo, cuenta_corriente):\n",
    "        self.nombre = nombre\n",
    "        self.saldo = saldo\n",
    "        self.cuenta_corriente = cuenta_corriente\n",
    "    #Representa a un usuario de un banco con su nombre, saldo y si tiene o no cuenta corriente.#\n",
    "\n",
    "    def retirar_dinero(self, cantidad):\n",
    "        if cantidad > self.saldo:\n",
    "            raise ValueError(\"Saldo insuficiente\")\n",
    "        self.saldo -= cantidad\n",
    "        print(f\"{cantidad} retirado correctamente\")\n",
    "    #Implementar retirar_dinero para sustraer dinero del saldo, lanzando un error si no es posible.#\n",
    "\n",
    "    def transferir_dinero(self, otro_usuario, cantidad):\n",
    "        if not self.cuenta_corriente or not otro_usuario.cuenta_corriente:\n",
    "            raise ValueError(\"No es posible realizar el tramite, usuario no encontrado\")\n",
    "        if cantidad > self.saldo:\n",
    "            raise ValueError(f\"No es posible transferir {cantidad}, saldo insuficiente\")\n",
    "        self.saldo -= cantidad\n",
    "        otro_usuario.saldo += cantidad\n",
    "        print(f\"saldo transferido con exito\")\n",
    "    #Implementar transferir_dinero para transferir dinero desde otro usuario, lanzando un error en caso de fallo.#\n",
    "\n",
    "\n",
    "    def agregar_dinero(self, cantidad):\n",
    "        self.saldo += cantidad\n",
    "        print(f\"{cantidad} añadido con exito\")\n",
    "    #Implementar agregar_dinero para aumentar el saldo del usuario.#\n",
    "\n",
    "\n",
    "#a. Crear dos usuarios: \"Alicia\" con saldo inicial de 100 y \"Bob\" con saldo inicial de 50, ambos con cuenta corriente.#\n",
    "alicia = UsuarioBanco(\"Alicia\", 100, True)\n",
    "bob = UsuarioBanco(\"Bob\", 50, True)\n",
    "\n",
    "# b. Agregar 20 unidades al saldo de Bob.#\n",
    "bob.agregar_dinero(20)\n",
    "\n",
    "# c. Transferir 80 unidades de Bob a Alicia.#\n",
    "bob.transferir_dinero(alicia, 80)\n",
    "#da error ya que el saldo es insuficiente en Bob!!!!#\n",
    "\n",
    "# d. Retirar 50 unidades del saldo de Alicia.#\n",
    "alicia.retirar_dinero(50)\n",
    "        "
   ]
  },
  {
   "cell_type": "markdown",
   "id": "ee5468ba",
   "metadata": {},
   "source": [
    "36 Crea una función llamada procesar_texto\n",
    "Procesa un texto según la opción especificada: contar_palabras, reemplazar_palabras o eliminar_palabra.\n",
    "Código a seguir:\n",
    "Crear una función contar_palabras que cuente el número de veces que aparece cada palabra en el texto y devuelva un diccionario.\n",
    "Crear una función reemplazar_palabras para sustituir una palabra_original por una palabra_nueva en el texto y devolver el texto modificado.\n",
    "Crear una función eliminar_palabra que elimine una palabra del texto y devuelva el texto sin ella.\n",
    "Crear la función procesar_texto que reciba un texto, una opción (\"contar\", \"reemplazar\", \"eliminar\") y un número variable de argumentos según la opción elegida."
   ]
  },
  {
   "cell_type": "code",
   "execution_count": 2,
   "id": "06becdf0",
   "metadata": {},
   "outputs": [
    {
     "name": "stdout",
     "output_type": "stream",
     "text": [
      "{'test': 1, 'para': 1, 'verificar': 1, 'si': 1, 'el': 1, 'ejercicio': 1, 'funciona': 1}\n",
      "test para verificar si el ejercicio si funciona, confirmado!\n",
      "el ejercicio funciona\n"
     ]
    }
   ],
   "source": [
    "#Crea una función llamada procesar_texto#\n",
    "\n",
    "def procesar_texto(texto, opcion, *args):\n",
    "    if opcion == \"contar\":\n",
    "        return contar_palabras(texto)\n",
    "    elif opcion == \"reemplazar\":\n",
    "        if len(args) != 2:\n",
    "            return \"No has introducido las palabras a reemplazar\"\n",
    "        return reemplazar_palabras(texto, args[0], args[1])\n",
    "    elif opcion == \"eliminar\":\n",
    "        if len(args) != 1:\n",
    "            return \"No has introducido la palabra o palabras a eliminar\"\n",
    "        return eliminar_palabras(texto, args[0])\n",
    "    else:\n",
    "        return \"No has seleccionado una funcion válida\"\n",
    "    \n",
    "\n",
    "#Procesa un texto según la opción especificada: contar_palabras#\n",
    "def contar_palabras(texto):\n",
    "    palabras = texto.split()\n",
    "    conteo = {}\n",
    "    for palabra in palabras:\n",
    "        palabra = palabra.strip(\".,;:!?()[]\\\"'\").lower()\n",
    "        conteo[palabra] = conteo.get(palabra, 0) + 1\n",
    "    return conteo\n",
    "\n",
    "#Procesa un texto según la opción especificada: reemplazar_palabras#\n",
    "def reemplazar_palabras(texto, palabra_original, palabra_nueva):\n",
    "    palabras = texto.split()\n",
    "    nuevas_palabras = [palabra_nueva if p == palabra_original else p for p in palabras]\n",
    "    return \" \".join(nuevas_palabras)\n",
    "\n",
    "#Procesa un texto según la opción especificada: eliminar_palabras#\n",
    "\n",
    "def eliminar_palabras(texto, palabras_eliminar):\n",
    "    palabras = texto.split()\n",
    "    eliminar = palabras_eliminar.split()\n",
    "    palabras_filtradas = [p for p in palabras if p not in eliminar]\n",
    "    return \" \".join(palabras_filtradas)\n",
    "\n",
    "\n",
    "texto = \"test para verificar si el ejercicio funciona\"\n",
    "\n",
    "print(procesar_texto(texto, \"contar\"))\n",
    "\n",
    "print(procesar_texto(texto, \"reemplazar\", \"funciona\", \"si funciona, confirmado!\"))\n",
    "\n",
    "print(procesar_texto(texto, \"eliminar\", \"test para verificar si\"))"
   ]
  },
  {
   "cell_type": "markdown",
   "id": "5bc017bd",
   "metadata": {},
   "source": [
    "37 Genera un programa que nos indique si es de noche, de día o de tarde según la hora proporcionada por el usuario."
   ]
  },
  {
   "cell_type": "code",
   "execution_count": null,
   "id": "1a59cc39",
   "metadata": {},
   "outputs": [],
   "source": [
    "hora_introducida = int(input(\"Introduce la hora en formato 24h: \"))\n",
    "\n",
    "\n",
    "if hora_introducida < 0 or hora_introducida > 23:\n",
    "    print(\"Introduce una hora entre las 00 y las 23\")\n",
    "elif 7 <= hora_introducida < 12:\n",
    "    print(\"Es por la mañana\")\n",
    "elif 12 <= hora_introducida < 21:\n",
    "    print(\"Es por la tarde\")\n",
    "else:\n",
    "    print(\"Es por la noche\")"
   ]
  },
  {
   "cell_type": "markdown",
   "id": "24d63c57",
   "metadata": {},
   "source": [
    "38 Escribe un programa que determine qué calificación en texto tiene un alumno según su calificación numérica.\n",
    "\n",
    "Reglas:\n",
    "        0 - 69: insuficiente\n",
    "        70 - 79: bien\n",
    "        80 - 89: muy bien\n",
    "        90 - 100: excelente"
   ]
  },
  {
   "cell_type": "code",
   "execution_count": null,
   "id": "5aa07cee",
   "metadata": {},
   "outputs": [],
   "source": [
    "Nota_alumno = int(input(\"Introduce la nota del alumno del 1 al 10:\"))\n",
    "\n",
    "\n",
    "if Nota_alumno < 0 or Nota_alumno> 10:\n",
    "    print(\"La calificación debe estar entre 0 y 10.\")\n",
    "elif Nota_alumno < 5:\n",
    "    print(\"Suspenso\")\n",
    "elif Nota_alumno < 6:\n",
    "    print(\"Apronado\")\n",
    "elif Nota_alumno < 7:\n",
    "    print(\"Bien\")\n",
    "elif Nota_alumno < 9:\n",
    "    print(\"Notable\")\n",
    "else:\n",
    "    print(\"Excelente\")"
   ]
  },
  {
   "cell_type": "markdown",
   "id": "4b4917d8",
   "metadata": {},
   "source": [
    "39 Escribe una función que tome dos parámetros: figura (una cadena que puede ser \"rectangulo\", \"circulo\" o \"triangulo\") y datos (una tupla con los datos necesarios para calcular el área de la figura)."
   ]
  },
  {
   "cell_type": "code",
   "execution_count": null,
   "id": "f5b8e183",
   "metadata": {},
   "outputs": [],
   "source": [
    "import math\n",
    "\n",
    "def calcular_area():\n",
    "    figura = input(\"Introduce la figura: rectangulo, circulo o triangulo)\").lower()\n",
    "\n",
    "    if figura == \"rectangulo\":\n",
    "        base = float(input(\"Introduce la base\"))\n",
    "        altura = float(input(\"Introduce la altura\"))\n",
    "        area = base * altura\n",
    "\n",
    "    elif figura == \"circulo\":\n",
    "        radio = float(input(\"Introduce el radio\"))\n",
    "        area = math.pi * radio**2\n",
    "\n",
    "    elif figura == \"triangulo\":\n",
    "        base = float(input(\"Introduce la base\"))\n",
    "        altura = float(input(\"Introduce la altura\"))\n",
    "        area = (base * altura) / 2\n",
    "\n",
    "    else:\n",
    "        print(\"Figura no válida. Debe ser 'rectangulo', 'circulo' o 'triangulo'.\")\n",
    "        return\n",
    "\n",
    "    print(f\"El área es: {area:.2f}\")"
   ]
  },
  {
   "cell_type": "markdown",
   "id": "10e0a068",
   "metadata": {},
   "source": [
    "40 Escribe un programa en Python que utilice condicionales para determinar el monto final de una compra en una tienda en línea, después de aplicar un descuento. El programa debe:\n",
    "    a. Solicitar al usuario el precio original de un artículo.\n",
    "    b. Preguntar si tiene un cupón de descuento (respuesta sí o no).\n",
    "    c. Si la respuesta es sí, solicitar el valor del cupón de descuento.\n",
    "    d. Aplicar el descuento al precio original, siempre que el valor del cupón sea válido (mayor a cero).\n",
    "    e. Mostrar el precio final de la compra, considerando o no el descuento.\n",
    "    f. Usar estructuras de control de flujo (if, elif, else) para llevar a cabo las acciones."
   ]
  },
  {
   "cell_type": "code",
   "execution_count": null,
   "id": "1c16e4e4",
   "metadata": {},
   "outputs": [],
   "source": [
    "def calcular_precio_final():\n",
    "\n",
    "    # Solicitar al usuario el precio original de un artícul #\n",
    "    precio = float(input(\"Introduce el precio original:\"))\n",
    "\n",
    "    # Preguntar si tiene un cupón de descuento (respuesta sí o no).# \n",
    "    cupon = input(\"¿Tienes un cuón para aplicar a la compra? introduce si o no: \").lower()\n",
    "\n",
    "    #Si la respuesta es sí, solicitar el valor del cupón de descuento.\n",
    "    if cupon == \"si\":\n",
    "        valor_cupon = float(input(\"Introduce el descuento de cupon\"))\n",
    "\n",
    "        #Aplicar el descuento al precio original, siempre que el valor del cupón sea válido (mayor a cero)#\n",
    "        if valor_cupon > 0:\n",
    "            precio_con_cupon = precio - valor_cupon\n",
    "            if precio_con_cupon < 0:\n",
    "                precio_con_cupon = 0\n",
    "            print(f\"El precio final són {precio_con_cupon:.2f} €\")\n",
    "        else:\n",
    "            print(\"Error, el valor del cupón no es válido.\")\n",
    "\n",
    "    #Mostrar el precio final de la compra, considerando o no el descuento (en este caso si es no:)#\n",
    "    elif cupon == \"no\":\n",
    "        print(f\"El precio final es: {precio:.2f} €\")\n",
    "\n",
    "    else:\n",
    "        print(\"No has introducido 'sí' o 'no'.\")\n",
    "\n",
    "calcular_precio_final()"
   ]
  }
 ],
 "metadata": {
  "kernelspec": {
   "display_name": "Python 3",
   "language": "python",
   "name": "python3"
  },
  "language_info": {
   "codemirror_mode": {
    "name": "ipython",
    "version": 3
   },
   "file_extension": ".py",
   "mimetype": "text/x-python",
   "name": "python",
   "nbconvert_exporter": "python",
   "pygments_lexer": "ipython3",
   "version": "3.11.9"
  }
 },
 "nbformat": 4,
 "nbformat_minor": 5
}
